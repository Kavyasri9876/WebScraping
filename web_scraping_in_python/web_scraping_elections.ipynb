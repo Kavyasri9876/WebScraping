{
 "cells": [
  {
   "cell_type": "markdown",
   "id": "dbfa150c",
   "metadata": {},
   "source": [
    "# Web Scraping"
   ]
  },
  {
   "cell_type": "code",
   "execution_count": null,
   "id": "41b6eba9",
   "metadata": {},
   "outputs": [],
   "source": [
    "import csv\n",
    "import requests\n",
    "from bs4 import BeautifulSoup\n",
    "import pandas as pd\n",
    "import matplotlib.pyplot as plt\n",
    "import matplotlib.colors as mcolors\n",
    "import seaborn as sns\n",
    "import numpy as np"
   ]
  },
  {
   "cell_type": "code",
   "execution_count": null,
   "id": "0a026fb5",
   "metadata": {},
   "outputs": [],
   "source": [
    "url = \"https://results.eci.gov.in/PcResultGenJune2024/index.htm\"\n",
    "r = requests.get(url)\n",
    "html_content = r.content\n",
    "# print(html_content)"
   ]
  },
  {
   "cell_type": "code",
   "execution_count": null,
   "id": "9f746e81",
   "metadata": {},
   "outputs": [],
   "source": [
    "soup = BeautifulSoup(html_content,'html.parser')\n",
    "# print(soup.prettify)"
   ]
  },
  {
   "cell_type": "code",
   "execution_count": null,
   "id": "57f42ed2",
   "metadata": {},
   "outputs": [],
   "source": [
    "title = soup.title\n",
    "print(title)\n",
    "# print(type(soup))\n",
    "# print(type(title.string))\n",
    "# type(title)"
   ]
  },
  {
   "cell_type": "code",
   "execution_count": null,
   "id": "d75fecfd",
   "metadata": {},
   "outputs": [],
   "source": [
    "#print(soup.find('table'))"
   ]
  },
  {
   "cell_type": "code",
   "execution_count": null,
   "id": "e95eeca7",
   "metadata": {},
   "outputs": [],
   "source": [
    "data = []\n",
    "for row in soup.find_all('tr'):\n",
    "    cols = row.find_all(['td', 'th'])\n",
    "    if len(cols) == 4 and cols[0].text.strip() != 'Total':\n",
    "        party = cols[0].text.strip()\n",
    "        won = cols[1].text.strip()\n",
    "        leading = cols[2].text.strip()\n",
    "        total = cols[3].text.strip()\n",
    "        data.append([party, won, leading, total])\n",
    "\n",
    "print(f\"Extracted data: {data}\")"
   ]
  },
  {
   "cell_type": "code",
   "execution_count": null,
   "id": "f6310817",
   "metadata": {},
   "outputs": [],
   "source": [
    "with open('election_results.csv', 'w', newline='', encoding='utf-8') as csvfile:\n",
    "    writer = csv.writer(csvfile)\n",
    "\n",
    "    writer.writerows(data)"
   ]
  },
  {
   "cell_type": "code",
   "execution_count": null,
   "id": "f6d86265",
   "metadata": {},
   "outputs": [],
   "source": [
    "try:\n",
    "    df = pd.read_csv('election_results.csv', encoding='utf-8')\n",
    "except UnicodeDecodeError:\n",
    "    df = pd.read_csv('election_results.csv', encoding='ISO-8859-1')\n"
   ]
  },
  {
   "cell_type": "code",
   "execution_count": null,
   "id": "7e0cbe28",
   "metadata": {},
   "outputs": [],
   "source": [
    "print(f\"DataFrame shape: {df.shape}\") \n",
    "print(f\"DataFrame contents:\\n{df}\")"
   ]
  },
  {
   "cell_type": "markdown",
   "id": "8e0c4210",
   "metadata": {},
   "source": [
    "# Top Insights\n"
   ]
  },
  {
   "cell_type": "code",
   "execution_count": null,
   "id": "07778428",
   "metadata": {},
   "outputs": [],
   "source": [
    "insights = []\n",
    "\n",
    "# 1. Total number of parties\n",
    "insights.append(f\"1. Total number of parties: {len(df)}\")\n",
    "\n",
    "# 2. Party with the most seats\n",
    "most_seats_party = df.loc[df['Total'].idxmax(), 'Party']\n",
    "most_seats = df['Total'].max()\n",
    "insights.append(f\"2. Party with the most seats: {most_seats_party} ({most_seats} seats)\")\n",
    "\n",
    "# 3. Party with the least seats\n",
    "least_seats_party = df.loc[df['Total'].idxmin(), 'Party']\n",
    "least_seats = df['Total'].min()\n",
    "insights.append(f\"3. Party with the least seats: {least_seats_party} ({least_seats} seats)\")\n",
    "\n",
    "# 4. Total seats won\n",
    "total_seats_won = df['Won'].sum()\n",
    "insights.append(f\"4. Total seats won: {total_seats_won}\")\n",
    "\n",
    "# 5. Percentage of seats won by the leading party\n",
    "leading_party_percentage = (most_seats / total_seats_won) * 100\n",
    "insights.append(f\"5. Percentage of seats won by the leading party: {leading_party_percentage:.2f}%\")\n",
    "\n",
    "# 6. Average seats won per party\n",
    "avg_seats = df['Won'].mean()\n",
    "insights.append(f\"6. Average seats won per party: {avg_seats:.2f}\")\n",
    "\n",
    "# 7. Difference in seats between top two parties\n",
    "df_sorted = df.sort_values('Total', ascending=False)\n",
    "seat_difference = df_sorted.iloc[0]['Total'] - df_sorted.iloc[1]['Total']\n",
    "insights.append(f\"7. Difference in seats between top two parties: {seat_difference}\")\n",
    "\n",
    "# 8. Parties with more than 50 seats\n",
    "parties_over_50 = df[df['Total'] > 50]['Party'].tolist()\n",
    "insights.append(f\"8. Parties with more than 50 seats: {', '.join(parties_over_50)}\")\n",
    "\n",
    "top_5_parties = df_sorted.head(5)[['Party', 'Total']].values.tolist()\n",
    "insights.append(\"9. Top 5 parties by total seats:\")\n",
    "for i, (party, seats) in enumerate(top_5_parties, start=1):\n",
    "    insights.append(f\"    {i}. {party}: {seats} seats\")\n",
    "    \n",
    "# 10. Percentage of total seats for each party\n",
    "df['Percentage'] = (df['Total'] / df['Total'].sum()) * 100\n",
    "percentages = df[['Party', 'Percentage']].values.tolist()\n",
    "insights.append(\"10. Percentage of total seats for each party:\")\n",
    "for party, percentage in percentages:\n",
    "    insights.append(f\"   - {party}: {percentage:.2f}%\")\n",
    "\n",
    "# Print insights\n",
    "print(\"\\nInsights:\")\n",
    "for insight in insights:\n",
    "    print(insight)"
   ]
  },
  {
   "cell_type": "markdown",
   "id": "52793e51",
   "metadata": {},
   "source": [
    "# Visualizations\n"
   ]
  },
  {
   "cell_type": "code",
   "execution_count": null,
   "id": "94397c76",
   "metadata": {},
   "outputs": [],
   "source": [
    "plt.style.use('seaborn-darkgrid')\n",
    "colors = plt.cm.get_cmap('tab20')(np.linspace(0, 1, len(df)))\n",
    "custom_palette = sns.color_palette(colors)"
   ]
  },
  {
   "cell_type": "markdown",
   "id": "e697ec11",
   "metadata": {},
   "source": [
    "# Total seats won by each party"
   ]
  },
  {
   "cell_type": "code",
   "execution_count": null,
   "id": "e6dcf23e",
   "metadata": {},
   "outputs": [],
   "source": [
    "plt.rcParams['figure.figsize'] = [30, 20]\n",
    "\n",
    "# 1. Bar chart of total seats won by each party\n",
    "plt.figure()\n",
    "ax = sns.barplot(x='Party', y='Total', data=df, palette=custom_palette)\n",
    "plt.title('Total Seats Won by Each Party', fontsize=20)\n",
    "plt.xlabel('Party', fontsize=16)\n",
    "plt.ylabel('Total Seats', fontsize=16)\n",
    "plt.xticks(rotation=45, ha='right', fontsize=12)\n",
    "plt.yticks(fontsize=12)\n",
    "for i, v in enumerate(df['Total']):\n",
    "    ax.text(i, v, str(int(v)), ha='center', va='bottom', fontsize=12)\n",
    "plt.tight_layout()\n",
    "plt.show()"
   ]
  },
  {
   "cell_type": "markdown",
   "id": "8266086c",
   "metadata": {},
   "source": [
    "# Top 6 parties"
   ]
  },
  {
   "cell_type": "code",
   "execution_count": null,
   "id": "019b20db",
   "metadata": {},
   "outputs": [],
   "source": [
    "df_sorted = df.sort_values('Total', ascending=False).reset_index(drop=True)\n",
    "\n",
    "top_6 = df_sorted.head(6)\n",
    "others = pd.DataFrame({\n",
    "    'Party': ['Others'],\n",
    "    'Total': [df_sorted.iloc[6:]['Total'].sum()]\n",
    "})\n",
    "\n",
    "pie_data = pd.concat([top_6, others]).reset_index(drop=True)\n",
    "\n",
    "plt.style.use('seaborn-darkgrid')\n",
    "\n",
    "colors = plt.cm.get_cmap('tab10')(np.linspace(0, 1, len(pie_data)))\n",
    "custom_palette = sns.color_palette(colors)\n",
    "\n",
    "plt.figure(figsize=[12, 8])\n",
    "\n",
    "wedges, texts, autotexts = plt.pie(pie_data['Total'], \n",
    "                                   labels=None,  \n",
    "                                   autopct=lambda pct: f'{pct:.1f}%\\n' if pct > 2 else '',\n",
    "                                   startangle=90, \n",
    "                                   colors=custom_palette,\n",
    "                                   wedgeprops=dict(width=0.6)) \n",
    "\n",
    "plt.title('Seat Distribution Among Top 6 Parties and Others', fontsize=20)\n",
    "\n",
    "plt.setp(autotexts, size=10, weight=\"bold\",color=\"white\")\n",
    "plt.setp(texts, size=12)\n",
    "\n",
    "centre_circle = plt.Circle((0,0), 0.3, fc='white')\n",
    "fig = plt.gcf()\n",
    "fig.gca().add_artist(centre_circle)\n",
    "\n",
    "plt.axis('equal')  \n",
    "plt.tight_layout()\n",
    "\n",
    "plt.legend(wedges, pie_data['Party'],\n",
    "           title=\"Parties\",\n",
    "           loc=\"center left\",\n",
    "           bbox_to_anchor=(1, 0, 0.5, 1))\n",
    "\n",
    "plt.show()"
   ]
  }
 ],
 "metadata": {
  "kernelspec": {
   "display_name": "Python 3 (ipykernel)",
   "language": "python",
   "name": "python3"
  },
  "language_info": {
   "codemirror_mode": {
    "name": "ipython",
    "version": 3
   },
   "file_extension": ".py",
   "mimetype": "text/x-python",
   "name": "python",
   "nbconvert_exporter": "python",
   "pygments_lexer": "ipython3",
   "version": "3.12.2"
  }
 },
 "nbformat": 4,
 "nbformat_minor": 5
}
